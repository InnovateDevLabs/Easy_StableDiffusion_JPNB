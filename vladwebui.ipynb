{
 "cells": [
  {
   "cell_type": "code",
   "execution_count": null,
   "id": "bd09dfb5-f0e5-487d-8a07-19f456165bac",
   "metadata": {},
   "outputs": [],
   "source": [
    "!apt update && apt upgrade -y && apt install ffmpeg -y\n",
    "!python -m pip install --upgrade pip"
   ]
  },
  {
   "cell_type": "code",
   "execution_count": null,
   "id": "955b4eb7-f604-48cf-aa52-132eb536d845",
   "metadata": {
    "tags": []
   },
   "outputs": [],
   "source": [
    "!git clone https://github.com/vladmandic/automatic.git\n",
    "%cd automatic\n",
    "!cd extensions && git clone https://github.com/camenduru/sd-civitai-browser.git && cd sd-civitai-browser && sed -i 's/PIL/pillow/g' install.py && git clone https://github.com/thygate/stable-diffusion-webui-depthmap-script.git"
   ]
  },
  {
   "cell_type": "code",
   "execution_count": null,
   "id": "5ec26c77-53e7-49c2-84df-cf521cf9c2a2",
   "metadata": {
    "tags": []
   },
   "outputs": [],
   "source": [
    "import os\n",
    "if os.getcwd() == '/workspace/automatic':\n",
    "    !pip install -r requirements.txt\n",
    "else:\n",
    "    %cd automatic\n",
    "    !pip install -r requirements.txt"
   ]
  },
  {
   "cell_type": "code",
   "execution_count": null,
   "id": "3ad6e4cc-23e6-4fa2-8dbf-e0211e58fca0",
   "metadata": {},
   "outputs": [],
   "source": [
    "!export COMMANDLINE_ARGS=\"--insecure --share\" && python launch.py"
   ]
  }
 ],
 "metadata": {
  "kernelspec": {
   "display_name": "Python 3 (ipykernel)",
   "language": "python",
   "name": "python3"
  },
  "language_info": {
   "codemirror_mode": {
    "name": "ipython",
    "version": 3
   },
   "file_extension": ".py",
   "mimetype": "text/x-python",
   "name": "python",
   "nbconvert_exporter": "python",
   "pygments_lexer": "ipython3",
   "version": "3.10.11"
  }
 },
 "nbformat": 4,
 "nbformat_minor": 5
}
